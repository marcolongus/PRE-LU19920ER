{
 "cells": [
  {
   "cell_type": "code",
   "execution_count": 2,
   "id": "7c09ae7a",
   "metadata": {},
   "outputs": [],
   "source": [
    "import os\n",
    "import numpy as np\n",
    "\n",
    "data_path: str = \"data/N=1k\"\n",
    "\n",
    "velocities_files = [\n",
    "    \"velocities_uniform\",\n",
    "    \"velocities_exponential\",\n",
    "    \"velocities_power_law_alpha=4\",\n",
    "]\n",
    "\n",
    "simulation_results = [\n",
    "    \"uniform\",\n",
    "    \"exponential\",\n",
    "    \"power_law_alpha=4\",\n",
    "]"
   ]
  },
  {
   "cell_type": "markdown",
   "id": "1170bd75",
   "metadata": {},
   "source": [
    "# Fig 1"
   ]
  },
  {
   "cell_type": "markdown",
   "id": "a0b1138a",
   "metadata": {},
   "source": [
    "## Fig 1b)"
   ]
  },
  {
   "cell_type": "code",
   "execution_count": null,
   "id": "9b28ed2f",
   "metadata": {},
   "outputs": [],
   "source": [
    "data_path = \"data/N=1k\"\n",
    "output_path = \"data/txt_files\"\n",
    "os.makedirs(output_path, exist_ok=True)\n",
    "\n",
    "# cargo el eje x (velocidades)\n",
    "x = np.load(os.path.join(data_path, \"velocities_uniform.npy\"))\n",
    "\n",
    "# cargo cada curva y\n",
    "y_single = np.load(os.path.join(data_path, \"uniform.npy\"))\n",
    "y_exp = np.load(os.path.join(data_path, \"exponential.npy\"))\n",
    "y_plaw = np.load(os.path.join(data_path, \"power_law_alpha=4.npy\"))\n",
    "\n",
    "# junto columnas: (v, n_R_single, n_R_exponential, n_R_powerlaw)\n",
    "data = np.column_stack([x, y_single, y_exp, y_plaw])\n",
    "\n",
    "# escribo el archivo de salida\n",
    "header = \"v\\tn_R_single\\tn_R_exponential\\tn_R_powerlaw\"\n",
    "np.savetxt(\n",
    "    os.path.join(output_path, \"Fig1_panel_b.txt\"),\n",
    "    data,\n",
    "    delimiter=\"\\t\",\n",
    "    header=header,\n",
    "    comments=\"\",\n",
    ")"
   ]
  },
  {
   "cell_type": "markdown",
   "id": "ef33d66d",
   "metadata": {},
   "source": [
    "## Fig 1c)"
   ]
  },
  {
   "cell_type": "code",
   "execution_count": null,
   "id": "fc3ee494",
   "metadata": {},
   "outputs": [],
   "source": [
    "data_path = \"data/N=1k\"\n",
    "output_path = \"data/txt_files\"\n",
    "os.makedirs(output_path, exist_ok=True)\n",
    "\n",
    "# cargo el eje x (velocidades)\n",
    "x_u = np.load(os.path.join(data_path, \"v_theo_uniform.npy\"))\n",
    "x_e = np.load(os.path.join(data_path, \"v_theo_exponential.npy\"))\n",
    "x_p = np.load(os.path.join(data_path, \"v_theo_power-law (q=4).npy\"))\n",
    "\n",
    "# cargo cada curva y\n",
    "y_single = np.load(os.path.join(data_path, \"r_theo_uniform.npy\"))\n",
    "y_exp = np.load(os.path.join(data_path, \"r_theo_exponential.npy\"))\n",
    "y_plaw = np.load(os.path.join(data_path, \"r_theo_power-law (q=4).npy\"))\n",
    "\n",
    "# recorto todas al mínimo común\n",
    "m = min(len(x_u), len(x_e), len(x_p), len(y_single), len(y_exp), len(y_plaw))\n",
    "x_u, x_e, x_p, y_single, y_exp, y_plaw = (\n",
    "    x_u[:m],\n",
    "    x_e[:m],\n",
    "    x_p[:m],\n",
    "    y_single[:m],\n",
    "    y_exp[:m],\n",
    "    y_plaw[:m],\n",
    ")\n",
    "\n",
    "# junto columnas: (v, n_R_single, n_R_exponential, n_R_powerlaw)\n",
    "data = np.column_stack([x_u, x_e, x_p, y_single, y_exp, y_plaw])\n",
    "\n",
    "# escribo el archivo de salida\n",
    "header = (\n",
    "    \"v_single\\tv_exponential\\tv_powerlaw\\tn_R_single\\tn_R_exponential\\tn_R_powerlaw\"\n",
    ")\n",
    "np.savetxt(\n",
    "    os.path.join(output_path, \"Fig1_panel_c.txt\"),\n",
    "    data,\n",
    "    delimiter=\"\\t\",\n",
    "    header=header,\n",
    "    comments=\"\",\n",
    ")"
   ]
  },
  {
   "cell_type": "markdown",
   "id": "c53214ca",
   "metadata": {},
   "source": [
    "## Fig 1d)"
   ]
  },
  {
   "cell_type": "code",
   "execution_count": null,
   "id": "0d77057c",
   "metadata": {},
   "outputs": [],
   "source": [
    "data_path = \"data/N=1k\"\n",
    "output_path = \"data/txt_files\"\n",
    "os.makedirs(output_path, exist_ok=True)\n",
    "\n",
    "# cargo el eje x (velocidades)\n",
    "x = np.load(os.path.join(data_path, \"q_values_array.npy\"))\n",
    "\n",
    "# cargo cada curva y\n",
    "y_sim = np.load(os.path.join(data_path, \"v_critic_sim.npy\"))\n",
    "y_theo = np.load(os.path.join(data_path, \"v_critic_theo.npy\"))\n",
    "\n",
    "# junto columnas: (v, n_R_single, n_R_exponential, n_R_powerlaw)\n",
    "data = np.column_stack([x, y_sim, y_theo])\n",
    "\n",
    "# escribo el archivo de salida\n",
    "header = \"q\\t<~v>^P_c sim\\t<~v>^P_c theo\"\n",
    "np.savetxt(\n",
    "    os.path.join(output_path, \"Fig1_panel_d.txt\"),\n",
    "    data,\n",
    "    delimiter=\"\\t\",\n",
    "    header=header,\n",
    "    comments=\"\",\n",
    ")"
   ]
  },
  {
   "cell_type": "markdown",
   "id": "c09c7492",
   "metadata": {},
   "source": [
    "# Fig 2"
   ]
  },
  {
   "cell_type": "markdown",
   "id": "8f085742",
   "metadata": {},
   "source": [
    "## Fig 2a) "
   ]
  },
  {
   "cell_type": "code",
   "execution_count": 3,
   "id": "6eeec39f",
   "metadata": {},
   "outputs": [],
   "source": [
    "data_path = \"data/fig2/a\"\n",
    "output_path = \"data/txt_files\"\n",
    "os.makedirs(output_path, exist_ok=True)\n",
    "\n",
    "# cargo el eje x (velocidades)\n",
    "x = np.load(os.path.join(data_path, \"x_fig2.npy\"))\n",
    "\n",
    "# cargo cada curva y\n",
    "y_single = np.load(os.path.join(data_path, \"y_fig2_Uniform.npy\"))\n",
    "y_exp = np.load(os.path.join(data_path, \"y_fig2_Exponential_random.npy\"))\n",
    "y_plaw = np.load(os.path.join(data_path, \"y_fig2_Power Law_random.npy\"))\n",
    "\n",
    "y_exp_directed = np.load(os.path.join(data_path, \"y_fig2_Exponential_directed.npy\"))\n",
    "y_plaw_directed = np.load(os.path.join(data_path, \"y_fig2_Power Law_directed.npy\"))\n",
    "\n",
    "# junto columnas: (v, n_R_single, n_R_exponential, n_R_powerlaw)\n",
    "data = np.column_stack([x, y_single, y_exp, y_plaw, y_exp_directed, y_plaw_directed])\n",
    "\n",
    "# escribo el archivo de salida\n",
    "header = \"f\\tn_single\\tn_exponential\\tn_powerlaw\\tn_exponential_dir\\tn_powerlaw_dir\"\n",
    "np.savetxt(\n",
    "    os.path.join(output_path, \"Fig2_panel_a.txt\"),\n",
    "    data,\n",
    "    delimiter=\"\\t\",\n",
    "    header=header,\n",
    "    comments=\"\",\n",
    ")"
   ]
  },
  {
   "cell_type": "markdown",
   "id": "edfa943d",
   "metadata": {},
   "source": [
    "## Fig b. inset"
   ]
  },
  {
   "cell_type": "code",
   "execution_count": 25,
   "id": "026a4dc3",
   "metadata": {},
   "outputs": [
    {
     "name": "stdout",
     "output_type": "stream",
     "text": [
      "[717.   694.38 677.9  681.34 649.16 626.34 617.88 625.68 617.86 596.7\n",
      " 598.34 566.88 563.26 542.14 537.44 540.44 515.78 503.   473.46 491.58\n",
      " 478.04 448.82 455.7  448.82 423.92 415.56 403.38 382.02 391.52 368.58]\n"
     ]
    }
   ],
   "source": [
    "data_path = \"data/fig2/b,c,d\"\n",
    "output_path = \"data/txt_files\"\n",
    "os.makedirs(output_path, exist_ok=True)\n",
    "\n",
    "# cargo el eje x (velocidades)\n",
    "x = np.load(os.path.join(data_path, \"x_fig2_Power Law.npy\"))\n",
    "\n",
    "# cargo cada curva y\n",
    "y = np.load(os.path.join(data_path, \"y_fig2_Power Law.npy\"))\n",
    "y_inset = np.load(os.path.join(data_path, \"y_inset_Power Law.npy\"))\n",
    "\n",
    "print(y)\n",
    "\n",
    "# junto columnas: (v, n_R_single, n_R_Power Law, n_R_powerlaw)\n",
    "data = np.column_stack([x[:-1], y[:-1], y_inset])\n",
    "\n",
    "# escribo el archivo de salida\n",
    "header = \"n_v\\t<n_r>-n_v\\tP(delta N_v)-inset\"\n",
    "np.savetxt(\n",
    "    os.path.join(output_path, \"Fig2_panel_d.txt\"),\n",
    "    data,\n",
    "    delimiter=\"\\t\",\n",
    "    header=header,\n",
    "    comments=\"\",\n",
    ")"
   ]
  },
  {
   "cell_type": "markdown",
   "id": "1c2d476e",
   "metadata": {},
   "source": [
    "# Validate"
   ]
  },
  {
   "cell_type": "code",
   "execution_count": 24,
   "id": "bf258357",
   "metadata": {},
   "outputs": [
    {
     "name": "stdout",
     "output_type": "stream",
     "text": [
      "[OK] Figura guardada: Fig1_panel_b.png\n",
      "[OK] Figura guardada: Fig1_panel_c.png\n",
      "[OK] Figura guardada: Fig1_panel_d.png\n",
      "[OK] Figura guardada: Fig2_panel_a.png\n",
      "[OK] Figura guardada: Fig2_panel_b.png\n",
      "[OK] Figura guardada: Fig2_panel_c.png\n",
      "[OK] Figura guardada: Fig2_panel_d.png\n"
     ]
    }
   ],
   "source": [
    "import pandas as pd\n",
    "import matplotlib.pyplot as plt\n",
    "import os\n",
    "\n",
    "# Ruta de tus archivos\n",
    "data_path = \"data/txt_files\"\n",
    "\n",
    "# Lista de archivos a graficar\n",
    "files = [\n",
    "    \"Fig1_panel_b.txt\",\n",
    "    \"Fig1_panel_c.txt\",\n",
    "    \"Fig1_panel_d.txt\",\n",
    "    \"Fig2_panel_a.txt\",\n",
    "    \"Fig2_panel_b.txt\",\n",
    "    \"Fig2_panel_c.txt\",\n",
    "    \"Fig2_panel_d.txt\",\n",
    "]\n",
    "\n",
    "for fname in files:\n",
    "    fpath = os.path.join(data_path, fname)\n",
    "    if not os.path.exists(fpath):\n",
    "        print(f\"[WARN] No se encontró {fpath}, se saltea\")\n",
    "        continue\n",
    "\n",
    "    # leer archivo con pandas (tabulador)\n",
    "    df = pd.read_csv(fpath, sep=\"\\t\")\n",
    "\n",
    "    # primera columna como x\n",
    "    xcol = df.columns[0]\n",
    "    ycols = df.columns[1:]\n",
    "\n",
    "    # graficar\n",
    "    plt.figure(figsize=(6, 4))\n",
    "    for col in ycols:\n",
    "        plt.plot(df[xcol], df[col], marker=\"o\", label=col)\n",
    "\n",
    "    plt.title(fname)\n",
    "    plt.xlabel(xcol)\n",
    "    plt.ylabel(\"values\")\n",
    "    plt.legend()\n",
    "    plt.tight_layout()\n",
    "\n",
    "    # guardar figura\n",
    "    outname = fname.replace(\".txt\", \".png\")\n",
    "    plt.savefig(os.path.join(data_path, \"validation\", outname))\n",
    "    plt.close()\n",
    "\n",
    "    print(f\"[OK] Figura guardada: {outname}\")"
   ]
  }
 ],
 "metadata": {
  "kernelspec": {
   "display_name": "Python 3",
   "language": "python",
   "name": "python3"
  },
  "language_info": {
   "codemirror_mode": {
    "name": "ipython",
    "version": 3
   },
   "file_extension": ".py",
   "mimetype": "text/x-python",
   "name": "python",
   "nbconvert_exporter": "python",
   "pygments_lexer": "ipython3",
   "version": "3.13.0"
  }
 },
 "nbformat": 4,
 "nbformat_minor": 5
}
