{
 "cells": [
  {
   "cell_type": "code",
   "execution_count": null,
   "id": "7c09ae7a",
   "metadata": {},
   "outputs": [],
   "source": [
    "import os\n",
    "import numpy as np\n",
    "\n",
    "data_path: str = \"data/N=1k\"\n",
    "\n",
    "velocities_files = [\n",
    "    \"velocities_uniform\",\n",
    "    \"velocities_exponential\",\n",
    "    \"velocities_power_law_alpha=4\",\n",
    "]\n",
    "\n",
    "simulation_results = [\n",
    "    \"uniform\",\n",
    "    \"exponential\",\n",
    "    \"power_law_alpha=4\",\n",
    "]"
   ]
  },
  {
   "cell_type": "markdown",
   "id": "a0b1138a",
   "metadata": {},
   "source": [
    "## Fig 1b)"
   ]
  },
  {
   "cell_type": "code",
   "execution_count": null,
   "id": "9b28ed2f",
   "metadata": {},
   "outputs": [],
   "source": [
    "data_path = \"data/N=1k\"\n",
    "output_path = \"data/txt_files\"\n",
    "os.makedirs(output_path, exist_ok=True)\n",
    "\n",
    "# cargo el eje x (velocidades)\n",
    "x = np.load(os.path.join(data_path, \"velocities_uniform.npy\"))\n",
    "\n",
    "# cargo cada curva y\n",
    "y_single = np.load(os.path.join(data_path, \"uniform.npy\"))\n",
    "y_exp = np.load(os.path.join(data_path, \"exponential.npy\"))\n",
    "y_plaw = np.load(os.path.join(data_path, \"power_law_alpha=4.npy\"))\n",
    "\n",
    "# junto columnas: (v, n_R_single, n_R_exponential, n_R_powerlaw)\n",
    "data = np.column_stack([x, y_single, y_exp, y_plaw])\n",
    "\n",
    "# escribo el archivo de salida\n",
    "header = \"v\\tn_R_single\\tn_R_exponential\\tn_R_powerlaw\"\n",
    "np.savetxt(\n",
    "    os.path.join(output_path, \"Fig1_panel_b.txt\"),\n",
    "    data,\n",
    "    delimiter=\"\\t\",\n",
    "    header=header,\n",
    "    comments=\"\",\n",
    ")"
   ]
  },
  {
   "cell_type": "markdown",
   "id": "ef33d66d",
   "metadata": {},
   "source": [
    "## Fig 1c)"
   ]
  },
  {
   "cell_type": "code",
   "execution_count": null,
   "id": "015287fd",
   "metadata": {},
   "outputs": [],
   "source": []
  },
  {
   "cell_type": "code",
   "execution_count": 46,
   "id": "fc3ee494",
   "metadata": {},
   "outputs": [],
   "source": [
    "data_path = \"data/N=1k\"\n",
    "output_path = \"data/txt_files\"\n",
    "os.makedirs(output_path, exist_ok=True)\n",
    "\n",
    "# cargo el eje x (velocidades)\n",
    "x_u = np.load(os.path.join(data_path, \"v_theo_uniform.npy\"))\n",
    "x_e = np.load(os.path.join(data_path, \"v_theo_exponential.npy\"))\n",
    "x_p = np.load(os.path.join(data_path, \"v_theo_power-law (q=4).npy\"))\n",
    "\n",
    "# cargo cada curva y\n",
    "y_single = np.load(os.path.join(data_path, \"r_theo_uniform.npy\"))\n",
    "y_exp = np.load(os.path.join(data_path, \"r_theo_exponential.npy\"))\n",
    "y_plaw = np.load(os.path.join(data_path, \"r_theo_power-law (q=4).npy\"))\n",
    "\n",
    "# recorto todas al mínimo común\n",
    "m = min(len(x_u), len(x_e), len(x_p), len(y_single), len(y_exp), len(y_plaw))\n",
    "x_u, x_e, x_p, y_single, y_exp, y_plaw = (\n",
    "    x_u[:m],\n",
    "    x_e[:m],\n",
    "    x_p[:m],\n",
    "    y_single[:m],\n",
    "    y_exp[:m],\n",
    "    y_plaw[:m],\n",
    ")\n",
    "\n",
    "# junto columnas: (v, n_R_single, n_R_exponential, n_R_powerlaw)\n",
    "data = np.column_stack([x_u, x_e, x_p, y_single, y_exp, y_plaw])\n",
    "\n",
    "# escribo el archivo de salida\n",
    "header = (\n",
    "    \"v_single\\tv_exponential\\tv_powerlaw\\tn_R_single\\tn_R_exponential\\tn_R_powerlaw\"\n",
    ")\n",
    "np.savetxt(\n",
    "    os.path.join(output_path, \"Fig1_panel_c.txt\"),\n",
    "    data,\n",
    "    delimiter=\"\\t\",\n",
    "    header=header,\n",
    "    comments=\"\",\n",
    ")"
   ]
  },
  {
   "cell_type": "markdown",
   "id": "c53214ca",
   "metadata": {},
   "source": [
    "## Fig 1d)"
   ]
  },
  {
   "cell_type": "code",
   "execution_count": null,
   "id": "0d77057c",
   "metadata": {},
   "outputs": [],
   "source": [
    "data_path = \"data/N=1k\"\n",
    "output_path = \"data/txt_files\"\n",
    "os.makedirs(output_path, exist_ok=True)\n",
    "\n",
    "# cargo el eje x (velocidades)\n",
    "x = np.load(os.path.join(data_path, \"q_values_array.npy\"))\n",
    "\n",
    "# cargo cada curva y\n",
    "y_sim = np.load(os.path.join(data_path, \"v_critic_sim.npy\"))\n",
    "y_theo = np.load(os.path.join(data_path, \"v_critic_theo.npy\"))\n",
    "\n",
    "# junto columnas: (v, n_R_single, n_R_exponential, n_R_powerlaw)\n",
    "data = np.column_stack([x, y_sim, y_theo])\n",
    "\n",
    "# escribo el archivo de salida\n",
    "header = \"q\\t<~v>^P_c sim\\t<~v>^P_c theo\"\n",
    "np.savetxt(\n",
    "    os.path.join(output_path, \"Fig1_panel_d.txt\"),\n",
    "    data,\n",
    "    delimiter=\"\\t\",\n",
    "    header=header,\n",
    "    comments=\"\",\n",
    ")"
   ]
  }
 ],
 "metadata": {
  "kernelspec": {
   "display_name": "Python 3",
   "language": "python",
   "name": "python3"
  },
  "language_info": {
   "codemirror_mode": {
    "name": "ipython",
    "version": 3
   },
   "file_extension": ".py",
   "mimetype": "text/x-python",
   "name": "python",
   "nbconvert_exporter": "python",
   "pygments_lexer": "ipython3",
   "version": "3.13.0"
  }
 },
 "nbformat": 4,
 "nbformat_minor": 5
}
