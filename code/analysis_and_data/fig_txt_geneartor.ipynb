{
 "cells": [
  {
   "cell_type": "code",
   "execution_count": null,
   "id": "7c09ae7a",
   "metadata": {},
   "outputs": [],
   "source": [
    "import os\n",
    "import numpy as np\n",
    "\n",
    "data_path: str = \"data/N=1k\"\n",
    "\n",
    "velocities_files = [\n",
    "    \"velocities_uniform\",\n",
    "    \"velocities_exponential\",\n",
    "    \"velocities_power_law_alpha=4\",\n",
    "]\n",
    "\n",
    "simulation_results = [\n",
    "    \"uniform\",\n",
    "    \"exponential\",\n",
    "    \"power_law_alpha=4\",\n",
    "]"
   ]
  },
  {
   "cell_type": "code",
   "execution_count": null,
   "id": "1b863a66",
   "metadata": {},
   "outputs": [],
   "source": [
    "for file_name in simulation_results:\n",
    "    data = np.load(os.path.join(data_path, f\"{file_name}.npy\"))\n",
    "    print(file_name, data)\n",
    "    print()"
   ]
  },
  {
   "cell_type": "markdown",
   "id": "a0b1138a",
   "metadata": {},
   "source": [
    "## Fig 1b)"
   ]
  },
  {
   "cell_type": "code",
   "execution_count": null,
   "id": "9b28ed2f",
   "metadata": {},
   "outputs": [],
   "source": [
    "data_path = \"data/N=1k\"\n",
    "output_path = \"data/txt_files\"\n",
    "os.makedirs(output_path, exist_ok=True)\n",
    "\n",
    "# cargo el eje x (velocidades)\n",
    "x = np.load(os.path.join(data_path, \"velocities_uniform.npy\"))\n",
    "\n",
    "# cargo cada curva y\n",
    "y_single = np.load(os.path.join(data_path, \"uniform.npy\"))\n",
    "y_exp = np.load(os.path.join(data_path, \"exponential.npy\"))\n",
    "y_plaw = np.load(os.path.join(data_path, \"power_law_alpha=4.npy\"))\n",
    "\n",
    "# junto columnas: (v, n_R_single, n_R_exponential, n_R_powerlaw)\n",
    "data = np.column_stack([x, y_single, y_exp, y_plaw])\n",
    "\n",
    "# escribo el archivo de salida\n",
    "header = \"v\\tn_R_single\\tn_R_exponential\\tn_R_powerlaw\"\n",
    "np.savetxt(\n",
    "    os.path.join(output_path, \"Fig1_panel_b.txt\"),\n",
    "    data,\n",
    "    delimiter=\"\\t\",\n",
    "    header=header,\n",
    "    comments=\"\",\n",
    ")"
   ]
  },
  {
   "cell_type": "markdown",
   "id": "c53214ca",
   "metadata": {},
   "source": [
    "## Fig 1d)"
   ]
  },
  {
   "cell_type": "code",
   "execution_count": 31,
   "id": "0d77057c",
   "metadata": {},
   "outputs": [],
   "source": [
    "data_path = \"data/N=1k\"\n",
    "output_path = \"data/txt_files\"\n",
    "os.makedirs(output_path, exist_ok=True)\n",
    "\n",
    "# cargo el eje x (velocidades)\n",
    "x = np.load(os.path.join(data_path, \"q_values_array.npy\"))\n",
    "\n",
    "# cargo cada curva y\n",
    "y_sim = np.load(os.path.join(data_path, \"v_critic_sim.npy\"))\n",
    "\n",
    "# junto columnas: (v, n_R_single, n_R_exponential, n_R_powerlaw)\n",
    "data = np.column_stack([x, y_sim])\n",
    "\n",
    "# escribo el archivo de salida\n",
    "header = \"q\\t<~v>^P_c\"\n",
    "np.savetxt(\n",
    "    os.path.join(output_path, \"Fig1_panel_c.txt\"),\n",
    "    data,\n",
    "    delimiter=\"\\t\",\n",
    "    header=header,\n",
    "    comments=\"\",\n",
    ")"
   ]
  }
 ],
 "metadata": {
  "kernelspec": {
   "display_name": "Python 3",
   "language": "python",
   "name": "python3"
  },
  "language_info": {
   "codemirror_mode": {
    "name": "ipython",
    "version": 3
   },
   "file_extension": ".py",
   "mimetype": "text/x-python",
   "name": "python",
   "nbconvert_exporter": "python",
   "pygments_lexer": "ipython3",
   "version": "3.13.0"
  }
 },
 "nbformat": 4,
 "nbformat_minor": 5
}
